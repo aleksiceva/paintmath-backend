{
 "cells": [
  {
   "cell_type": "code",
   "execution_count": 1,
   "outputs": [],
   "source": [
    "import sys\n",
    "import os\n",
    "import io\n",
    "\n",
    "sys.path.insert(0, '../model')\n",
    "\n",
    "import torch"
   ],
   "metadata": {
    "collapsed": false,
    "pycharm": {
     "name": "#%%\n"
    }
   }
  },
  {
   "cell_type": "code",
   "execution_count": 2,
   "outputs": [
    {
     "data": {
      "text/plain": "CNN(\n  (conv1): Sequential(\n    (0): Conv2d(1, 64, kernel_size=(5, 5), stride=(1, 1))\n    (1): ReLU()\n    (2): MaxPool2d(kernel_size=2, stride=2, padding=0, dilation=1, ceil_mode=False)\n  )\n  (conv2): Sequential(\n    (0): Conv2d(64, 128, kernel_size=(5, 5), stride=(1, 1))\n    (1): ReLU()\n    (2): MaxPool2d(kernel_size=2, stride=2, padding=0, dilation=1, ceil_mode=False)\n  )\n  (out): Linear(in_features=8192, out_features=14, bias=True)\n)"
     },
     "execution_count": 2,
     "metadata": {},
     "output_type": "execute_result"
    }
   ],
   "source": [
    "from model import CNN, classify\n",
    "\n",
    "model = CNN()\n",
    "\n",
    "model.load_state_dict(torch.load(os.path.join(\"../model/model.pth\")))\n",
    "model.eval()\n"
   ],
   "metadata": {
    "collapsed": false,
    "pycharm": {
     "name": "#%%\n"
    }
   }
  },
  {
   "cell_type": "code",
   "execution_count": 3,
   "outputs": [
    {
     "name": "stdout",
     "output_type": "stream",
     "text": [
      "{'-': 33997, '+': 25112, 'times': 3251, 'div': 868, '0': 6914, '1': 26520, '2': 26140, '3': 10909, '4': 7396, '5': 3545, '6': 3118, '7': 2909, '8': 3068, '9': 3737}\n",
      "dict_keys(['-', '+', 'times', 'div', '0', '1', '2', '3', '4', '5', '6', '7', '8', '9'])\n",
      "[33997.0, 25112.0, 3251.0, 868.0, 6914.0, 26520.0, 26140.0, 10909.0, 7396.0, 3545.0, 3118.0, 2909.0, 3068.0, 3737.0]\n"
     ]
    }
   ],
   "source": [
    "from io import StringIO\n",
    "import gzip\n",
    "from PIL import Image\n",
    "\n",
    "x = []\n",
    "y = []\n",
    "\n",
    "import zipfile\n",
    "from PIL import Image\n",
    "sizedir = {\n",
    "    '-': 0,\n",
    "    '+': 0,\n",
    "    'times': 0,\n",
    "    'div': 0,\n",
    "    '0': 0,\n",
    "    '1': 0,\n",
    "    '2': 0,\n",
    "    '3': 0,\n",
    "    '4': 0,\n",
    "    '5': 0,\n",
    "    '6': 0,\n",
    "    '7': 0,\n",
    "    '8': 0,\n",
    "    '9': 0,\n",
    "}\n",
    "\n",
    "with zipfile.ZipFile('../../dataset.zip', 'r') as zip:\n",
    "    classname = \"\"\n",
    "    for name in zip.namelist():\n",
    "        if name.endswith('/'):\n",
    "            classname = name\n",
    "        else:\n",
    "            sizedir[classname[classname.index('/')+1:-1]] += 1\n",
    "print(sizedir)\n",
    "print(sizedir.keys())\n",
    "print([float(i) for i in sizedir.values()])"
   ],
   "metadata": {
    "collapsed": false,
    "pycharm": {
     "name": "#%%\n"
    }
   }
  },
  {
   "cell_type": "code",
   "execution_count": 4,
   "outputs": [
    {
     "data": {
      "text/plain": "<AxesSubplot:>"
     },
     "execution_count": 4,
     "metadata": {},
     "output_type": "execute_result"
    },
    {
     "data": {
      "text/plain": "<Figure size 432x288 with 1 Axes>",
      "image/png": "[encoded data removed]"
     },
     "metadata": {},
     "output_type": "display_data"
    }
   ],
   "source": [
    "import seaborn as sns\n",
    "\n",
    "sns.set_style('darkgrid')\n",
    "sns.barplot(x=list(sizedir.keys()), y=[float(i) for i in sizedir.values()])\n"
   ],
   "metadata": {
    "collapsed": false,
    "pycharm": {
     "name": "#%%\n"
    }
   }
  }
 ],
 "metadata": {
  "kernelspec": {
   "display_name": "Python 3",
   "language": "python",
   "name": "python3"
  },
  "language_info": {
   "codemirror_mode": {
    "name": "ipython",
    "version": 2
   },
   "file_extension": ".py",
   "mimetype": "text/x-python",
   "name": "python",
   "nbconvert_exporter": "python",
   "pygments_lexer": "ipython2",
   "version": "2.7.6"
  }
 },
 "nbformat": 4,
 "nbformat_minor": 0
}